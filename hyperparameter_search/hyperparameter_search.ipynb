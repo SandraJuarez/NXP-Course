{
 "cells": [
  {
   "cell_type": "code",
   "execution_count": 16,
   "id": "2cd78f0e",
   "metadata": {},
   "outputs": [],
   "source": [
    "import numpy as np\n",
    "import pandas as pd\n",
    "import matplotlib.pyplot as plt\n",
    "import seaborn as sns\n",
    "\n",
    "from sklearn.datasets import load_breast_cancer\n",
    "from sklearn.model_selection import train_test_split, cross_val_score\n",
    "from sklearn.linear_model import LogisticRegression\n",
    "from sklearn.ensemble import RandomForestClassifier\n",
    "from sklearn.svm import SVC\n",
    "\n",
    "from sklearn.model_selection import GridSearchCV, RandomizedSearchCV\n",
    "from sklearn.metrics import accuracy_score, classification_report\n",
    "\n",
    "import warnings\n",
    "warnings.filterwarnings(\"ignore\")\n",
    "\n",
    "sns.set(style=\"whitegrid\")\n"
   ]
  },
  {
   "cell_type": "markdown",
   "id": "2e57fad6",
   "metadata": {},
   "source": [
    "## Why Do Hyperparameters Matter?\n",
    "\n",
    "Hyperparameters are **external configuration settings** of a model that are not learned from the data. They must be set manually or by search strategies.\n",
    "\n",
    "Examples:\n",
    "- `C` and `penalty` in Logistic Regression\n",
    "- `max_depth`, `n_estimators` in Random Forest\n",
    "- `kernel` and `gamma` in Support Vector Machines\n",
    "- etc.\n",
    "\n",
    "Choosing good values for these parameters can:\n",
    "- Improve generalization\n",
    "- Reduce overfitting\n",
    "- Shorten training time\n"
   ]
  },
  {
   "cell_type": "code",
   "execution_count": 17,
   "id": "43e8e022",
   "metadata": {},
   "outputs": [
    {
     "name": "stdout",
     "output_type": "stream",
     "text": [
      "Training samples: 455, Features: 30\n"
     ]
    }
   ],
   "source": [
    "# Load breast cancer dataset\n",
    "data = load_breast_cancer()\n",
    "X = data.data\n",
    "y = data.target\n",
    "\n",
    "# Train-test split\n",
    "X_train, X_test, y_train, y_test = train_test_split(X, y, test_size=0.2, random_state=42)\n",
    "\n",
    "print(f\"Training samples: {X_train.shape[0]}, Features: {X_train.shape[1]}\")\n"
   ]
  },
  {
   "cell_type": "markdown",
   "id": "991d2abb",
   "metadata": {},
   "source": [
    "## What Is the Hyperparameter Space?\n",
    "\n",
    "The **hyperparameter space** is the set of all combinations of hyperparameter values you want to explore.\n",
    "\n",
    "The space can be:\n",
    "- **Grid-like** (e.g., all combinations of specific values)\n",
    "- **Randomly sampled** from distributions\n",
    "- **Explored adaptively** via optimization methods like Bayesian optimization\n"
   ]
  },
  {
   "cell_type": "code",
   "execution_count": 18,
   "id": "e342a9ef",
   "metadata": {},
   "outputs": [
    {
     "name": "stdout",
     "output_type": "stream",
     "text": [
      "C=0.001 → Accuracy: 0.923\n",
      "C=0.01 → Accuracy: 0.927\n",
      "C=0.1 → Accuracy: 0.932\n",
      "C=1 → Accuracy: 0.938\n",
      "C=10 → Accuracy: 0.941\n"
     ]
    }
   ],
   "source": [
    "# Try different values manually\n",
    "for c in [0.001, 0.01, 0.1, 1, 10]:\n",
    "    model = LogisticRegression(C=c)\n",
    "    scores = cross_val_score(model, X_train, y_train, cv=5)\n",
    "    print(f\"C={c} → Accuracy: {scores.mean():.3f}\")\n"
   ]
  },
  {
   "cell_type": "markdown",
   "id": "56947196",
   "metadata": {},
   "source": [
    "## Automated Search Methods\n",
    "\n",
    "- **Grid Search** tries all combinations from a fixed grid.\n",
    "- **Random Search** samples combinations randomly from specified distributions.\n",
    "\n",
    "Both methods use **cross-validation** to evaluate performance.\n"
   ]
  },
  {
   "cell_type": "code",
   "execution_count": 19,
   "id": "915b063a",
   "metadata": {},
   "outputs": [
    {
     "name": "stdout",
     "output_type": "stream",
     "text": [
      "Best Params (Grid Search): {'C': 10, 'penalty': 'l2', 'solver': 'liblinear'}\n",
      "Best CV Score: 0.963\n"
     ]
    }
   ],
   "source": [
    "param_grid = {\n",
    "    'C': [0.01, 0.1, 1, 10],\n",
    "    'penalty': ['l2'],\n",
    "    'solver': ['liblinear']\n",
    "}\n",
    "\n",
    "grid_search = GridSearchCV(LogisticRegression(), param_grid, cv=5)\n",
    "grid_search.fit(X_train, y_train)\n",
    "\n",
    "print(\"Best Params (Grid Search):\", grid_search.best_params_)\n",
    "print(\"Best CV Score:\", f\"{grid_search.best_score_:.3f}\")\n"
   ]
  },
  {
   "cell_type": "code",
   "execution_count": 20,
   "id": "f6ef3a2d",
   "metadata": {},
   "outputs": [
    {
     "name": "stdout",
     "output_type": "stream",
     "text": [
      "Best Params (Random Search): {'max_depth': 8, 'max_features': 'log2', 'n_estimators': 102}\n",
      "Best CV Score: 0.9626373626373625\n"
     ]
    }
   ],
   "source": [
    "from scipy.stats import randint, uniform\n",
    "\n",
    "param_dist = {\n",
    "    'n_estimators': randint(10, 200),\n",
    "    'max_depth': randint(2, 20),\n",
    "    'max_features': ['sqrt', 'log2']\n",
    "}\n",
    "\n",
    "rnd_search = RandomizedSearchCV(RandomForestClassifier(), param_distributions=param_dist, n_iter=10, cv=5, random_state=42)\n",
    "rnd_search.fit(X_train, y_train)\n",
    "\n",
    "print(\"Best Params (Random Search):\", rnd_search.best_params_)\n",
    "print(\"Best CV Score:\", rnd_search.best_score_)\n"
   ]
  },
  {
   "cell_type": "markdown",
   "id": "69d1acdd",
   "metadata": {},
   "source": [
    "## Beware of Data Leakage\n",
    "\n",
    "**Data leakage** occurs when information from outside the training dataset is used to create the model.\n",
    "\n",
    "Common causes:\n",
    "- Performing scaling, encoding, or feature selection before splitting data\n",
    "- Including future information in time series\n",
    "- Leaking labels into features\n",
    "\n",
    "Prevention:\n",
    "- Always split data before preprocessing\n",
    "- Use pipelines to apply preprocessing only on training data during cross-validation\n"
   ]
  },
  {
   "cell_type": "markdown",
   "id": "fe80b3e7",
   "metadata": {},
   "source": [
    "## Beyond Grid Search: Bayesian Optimization and AutoML\n",
    "\n",
    "**Bayesian optimization** models the search space as a probability distribution and selects the next best point to explore based on previous results.\n",
    "\n",
    "Popular tools:\n",
    "- `optuna`\n",
    "- `scikit-optimize` (skopt)\n",
    "- `hyperopt`\n",
    "\n",
    "**AutoML frameworks** can automatically:\n",
    "- Try different models\n",
    "- Tune hyperparameters\n",
    "- Perform preprocessing\n",
    "\n",
    "Examples:\n",
    "- `Auto-sklearn`\n",
    "- `TPOT`\n",
    "- `H2O AutoML`\n",
    "- `Google AutoML`, `Azure Autotune`\n"
   ]
  }
 ],
 "metadata": {
  "kernelspec": {
   "display_name": "Python 3",
   "language": "python",
   "name": "python3"
  },
  "language_info": {
   "codemirror_mode": {
    "name": "ipython",
    "version": 3
   },
   "file_extension": ".py",
   "mimetype": "text/x-python",
   "name": "python",
   "nbconvert_exporter": "python",
   "pygments_lexer": "ipython3",
   "version": "3.12.3"
  }
 },
 "nbformat": 4,
 "nbformat_minor": 5
}
